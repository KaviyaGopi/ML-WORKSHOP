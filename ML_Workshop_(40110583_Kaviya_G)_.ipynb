{
  "nbformat": 4,
  "nbformat_minor": 0,
  "metadata": {
    "colab": {
      "name": "ML Workshop (40110583-Kaviya G) .ipynb",
      "provenance": [],
      "authorship_tag": "ABX9TyOyxAXJCoDFoYf7ZOHJx+bN",
      "include_colab_link": true
    },
    "kernelspec": {
      "name": "python3",
      "display_name": "Python 3"
    },
    "language_info": {
      "name": "python"
    }
  },
  "cells": [
    {
      "cell_type": "markdown",
      "metadata": {
        "id": "view-in-github",
        "colab_type": "text"
      },
      "source": [
        "<a href=\"https://colab.research.google.com/github/KaviyaGopi/ML-WORKSHOP/blob/main/ML_Workshop_(40110583_Kaviya_G)_.ipynb\" target=\"_parent\"><img src=\"https://colab.research.google.com/assets/colab-badge.svg\" alt=\"Open In Colab\"/></a>"
      ]
    },
    {
      "cell_type": "markdown",
      "source": [
        "GETTING THE DATA TYPE"
      ],
      "metadata": {
        "id": "FR6UCHFY3g0X"
      }
    },
    {
      "cell_type": "code",
      "execution_count": 1,
      "metadata": {
        "colab": {
          "base_uri": "https://localhost:8080/"
        },
        "id": "QHByrIqm3Xq6",
        "outputId": "a578d2ca-6178-4009-904d-973df50d393c"
      },
      "outputs": [
        {
          "output_type": "stream",
          "name": "stdout",
          "text": [
            "<class 'int'>\n"
          ]
        }
      ],
      "source": [
        "x = 5\n",
        "print(type(x))"
      ]
    },
    {
      "cell_type": "code",
      "source": [
        "x = 35e3\n",
        "y = 12E4\n",
        "z = -87.7e100\n",
        "\n",
        "print(type(x))\n",
        "print(type(y))\n",
        "print(type(z))"
      ],
      "metadata": {
        "colab": {
          "base_uri": "https://localhost:8080/"
        },
        "id": "LmuVFOad3rhc",
        "outputId": "cf326168-6ed0-4833-dd15-a7c92c1d1544"
      },
      "execution_count": 2,
      "outputs": [
        {
          "output_type": "stream",
          "name": "stdout",
          "text": [
            "<class 'float'>\n",
            "<class 'float'>\n",
            "<class 'float'>\n"
          ]
        }
      ]
    },
    {
      "cell_type": "markdown",
      "source": [
        "CHECK STRING"
      ],
      "metadata": {
        "id": "eqhtgoJK4Fkb"
      }
    },
    {
      "cell_type": "code",
      "source": [
        "txt = \"The best things in life are free!\"\n",
        "if \"free\" in txt:\n",
        "  print(\"Yes, 'free' is present in the txt.\")\n",
        "else:\n",
        "  print(\"No , 'free is not present in the txt\")"
      ],
      "metadata": {
        "colab": {
          "base_uri": "https://localhost:8080/"
        },
        "id": "LluzUNuP3ug1",
        "outputId": "44fb2d57-aa8b-448f-b51f-cd51d56de270"
      },
      "execution_count": 3,
      "outputs": [
        {
          "output_type": "stream",
          "name": "stdout",
          "text": [
            "Yes, 'free' is present in the txt.\n"
          ]
        }
      ]
    },
    {
      "cell_type": "markdown",
      "source": [
        "SLICING STRINGS"
      ],
      "metadata": {
        "id": "1ytTLy__4QI-"
      }
    },
    {
      "cell_type": "code",
      "source": [
        "b = \"Hello, World!\"\n",
        "print(b[:5])"
      ],
      "metadata": {
        "colab": {
          "base_uri": "https://localhost:8080/"
        },
        "id": "8Y_Yht1y4NZ8",
        "outputId": "8da09316-7efa-4ba9-81c5-09cd388c55dd"
      },
      "execution_count": 4,
      "outputs": [
        {
          "output_type": "stream",
          "name": "stdout",
          "text": [
            "Hello\n"
          ]
        }
      ]
    },
    {
      "cell_type": "markdown",
      "source": [
        "FORMATING STRING"
      ],
      "metadata": {
        "id": "46I9VoSs4xHy"
      }
    },
    {
      "cell_type": "code",
      "source": [
        "age = 36\n",
        "txt = \"My name is John, and I am {}\"\n",
        "print(txt.format(age))"
      ],
      "metadata": {
        "colab": {
          "base_uri": "https://localhost:8080/"
        },
        "id": "4-XbwI3Z4eA4",
        "outputId": "713bff2d-321a-410b-ae6b-37064d12ae04"
      },
      "execution_count": 6,
      "outputs": [
        {
          "output_type": "stream",
          "name": "stdout",
          "text": [
            "My name is John, and I am 36\n"
          ]
        }
      ]
    },
    {
      "cell_type": "markdown",
      "source": [
        "PROBLEMS \n",
        "\n",
        "1 . PRIME NUMBER"
      ],
      "metadata": {
        "id": "O6HirEmE48AD"
      }
    },
    {
      "cell_type": "code",
      "source": [
        "num=int(input(\"Enter the number : \"))\n",
        "if num > 1:\n",
        "  for i in range(2,num):\n",
        "    if (num % i) == 0:\n",
        "      print(num, \"is not a prime number\")\n",
        "      break\n",
        "    else:\n",
        "      print(num, \"is a prime number\")\n",
        "      break"
      ],
      "metadata": {
        "colab": {
          "base_uri": "https://localhost:8080/"
        },
        "id": "LmJ8sorj4-tG",
        "outputId": "252320ab-57bb-4c5f-a0f3-d1b6c7252c44"
      },
      "execution_count": 7,
      "outputs": [
        {
          "output_type": "stream",
          "name": "stdout",
          "text": [
            "Enter the number : 12\n",
            "12 is not a prime number\n"
          ]
        }
      ]
    },
    {
      "cell_type": "markdown",
      "source": [
        "2 . FACTORIAL"
      ],
      "metadata": {
        "id": "VIdND0q06OII"
      }
    },
    {
      "cell_type": "code",
      "source": [
        "a= int(input(\"Enter a number: \"))    \n",
        "factorial = 1    \n",
        "if a < 0:    \n",
        "   print(\" Factorial does not exist\")    \n",
        "elif a == 0:    \n",
        "   print(\"The factorial of 0 is 1\")    \n",
        "else:    \n",
        "   for i in range(1,a + 1):    \n",
        "       factorial = factorial*i    \n",
        "   print(\"The factorial of\",a,\"is\",factorial)    "
      ],
      "metadata": {
        "colab": {
          "base_uri": "https://localhost:8080/"
        },
        "id": "0o7FKIKJ5LWX",
        "outputId": "46029317-e3e3-4a5c-f8cf-1464b1aa0b4d"
      },
      "execution_count": 8,
      "outputs": [
        {
          "output_type": "stream",
          "name": "stdout",
          "text": [
            "Enter a number: 12\n",
            "The factorial of 12 is 479001600\n"
          ]
        }
      ]
    },
    {
      "cell_type": "markdown",
      "source": [
        "3 . NPR"
      ],
      "metadata": {
        "id": "GSbXc70T6hov"
      }
    },
    {
      "cell_type": "code",
      "source": [
        "import math\n",
        "def fact(n):\n",
        "    if (n <= 1):\n",
        "        return 1\n",
        "         \n",
        "    return n * fact(n - 1)\n",
        " \n",
        "def nPr(n, r):\n",
        "     \n",
        "    return math.floor(fact(n) /\n",
        "                fact(n - r))\n",
        "     \n",
        "n = 5\n",
        "r = 2\n",
        " \n",
        "print(n, \"P\", r, \"=\", nPr(n, r))"
      ],
      "metadata": {
        "colab": {
          "base_uri": "https://localhost:8080/"
        },
        "id": "4qrUNpHx6g1i",
        "outputId": "af7d1ee7-0e28-4b72-8b68-d3b20d793df0"
      },
      "execution_count": 9,
      "outputs": [
        {
          "output_type": "stream",
          "name": "stdout",
          "text": [
            "5 P 2 = 20\n"
          ]
        }
      ]
    },
    {
      "cell_type": "markdown",
      "source": [
        "4 . SUM OF FIRST AND LAST DIGITS OF THE NUMBER"
      ],
      "metadata": {
        "id": "YHgRckMh6xdv"
      }
    },
    {
      "cell_type": "code",
      "source": [
        "num = int(input(\"Enter the number : \"))\n",
        "\n",
        "count = 0\n",
        "while num!=0:\n",
        "    if count==0:\n",
        "        last = num%10\n",
        "        count = count+1\n",
        "    rem = num%10\n",
        "    num = int(num/10)\n",
        "\n",
        "sum = rem + last\n",
        "print(\"Sum of first and last digit =\", sum)"
      ],
      "metadata": {
        "colab": {
          "base_uri": "https://localhost:8080/"
        },
        "id": "DjIAVhcD6v7b",
        "outputId": "9058e9db-fb6d-4441-b1bb-e4b5de49c05c"
      },
      "execution_count": 27,
      "outputs": [
        {
          "output_type": "stream",
          "name": "stdout",
          "text": [
            "Enter the number : 1234\n",
            "Sum of first and last digit = 5\n"
          ]
        }
      ]
    },
    {
      "cell_type": "markdown",
      "source": [
        "5 . PALINDROME"
      ],
      "metadata": {
        "id": "37ynsXcK72SI"
      }
    },
    {
      "cell_type": "code",
      "source": [
        "n=int(input(\"Enter number:\"))\n",
        "temp=n\n",
        "rev=0\n",
        "while(n>0):\n",
        "    dig=n%10\n",
        "    rev=rev*10+dig\n",
        "    n=n//10\n",
        "if(temp==rev):\n",
        "    print(\"The number is a palindrome!\")\n",
        "else:\n",
        "    print(\"The number isn't a palindrome!\")"
      ],
      "metadata": {
        "colab": {
          "base_uri": "https://localhost:8080/"
        },
        "id": "xFBuqdE971lp",
        "outputId": "b99e3350-35fa-413f-9666-9cd6dce6b04c"
      },
      "execution_count": 29,
      "outputs": [
        {
          "output_type": "stream",
          "name": "stdout",
          "text": [
            "Enter number:313\n",
            "The number is a palindrome!\n"
          ]
        }
      ]
    },
    {
      "cell_type": "markdown",
      "source": [
        "6 . NUMBER OF DIGITS"
      ],
      "metadata": {
        "id": "v7VBPqna8O5K"
      }
    },
    {
      "cell_type": "code",
      "source": [
        "no=int(input(\"Enter the number : \"))\n",
        "count = 0\n",
        "\n",
        "while no != 0:\n",
        "    no //= 10\n",
        "    count += 1\n",
        "\n",
        "print(\"Number of digits: \" + str(count))"
      ],
      "metadata": {
        "colab": {
          "base_uri": "https://localhost:8080/"
        },
        "id": "Ic3YbOOb8OMw",
        "outputId": "75fcc523-2859-4e08-8945-fd5c0956ee47"
      },
      "execution_count": 22,
      "outputs": [
        {
          "output_type": "stream",
          "name": "stdout",
          "text": [
            "Enter the number : 12344\n",
            "Number of digits: 5\n"
          ]
        }
      ]
    },
    {
      "cell_type": "markdown",
      "source": [
        "7 . ARMSTRONG NUMBER"
      ],
      "metadata": {
        "id": "de8ILE3w8wnF"
      }
    },
    {
      "cell_type": "code",
      "source": [
        "number = int(input(\"Enter a number: \"))\n",
        "\n",
        "sum = 0\n",
        "temp = number\n",
        "while temp > 0:\n",
        "   digit = temp % 10\n",
        "   sum += digit ** 3\n",
        "   temp //= 10\n",
        "if number == sum:\n",
        "   print(number,\"is an Armstrong number\")\n",
        "else:\n",
        "   print(number,\"is not an Armstrong number\")"
      ],
      "metadata": {
        "colab": {
          "base_uri": "https://localhost:8080/"
        },
        "id": "LubFvg3Z8ve9",
        "outputId": "2e21869b-b858-40c7-daba-98c1f7eac53e"
      },
      "execution_count": 24,
      "outputs": [
        {
          "output_type": "stream",
          "name": "stdout",
          "text": [
            "Enter a number: 153\n",
            "153 is an Armstrong number\n"
          ]
        }
      ]
    }
  ]
}